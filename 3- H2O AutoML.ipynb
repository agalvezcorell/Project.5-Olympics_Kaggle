{
 "cells": [
  {
   "cell_type": "markdown",
   "metadata": {},
   "source": [
    "### Investigando con H2O y automodel. \n",
    "He realizado diferentes pruebas con los datos, y eliminando columnas. He conseguido \"la mejor predicción\" tal y como está ahora el notebook."
   ]
  },
  {
   "cell_type": "code",
   "execution_count": 58,
   "metadata": {},
   "outputs": [],
   "source": [
    "import pandas as pd\n",
    "import h2o\n",
    "from h2o.automl import H2OAutoML"
   ]
  },
  {
   "cell_type": "code",
   "execution_count": 59,
   "metadata": {},
   "outputs": [],
   "source": [
    "train = pd.read_csv('input/train.csv')\n",
    "test = pd.read_csv('input/test.csv')\n",
    "testid = test['id']"
   ]
  },
  {
   "cell_type": "code",
   "execution_count": 60,
   "metadata": {},
   "outputs": [
    {
     "name": "stdout",
     "output_type": "stream",
     "text": [
      "Checking whether there is an H2O instance running at http://localhost:54321 . connected.\n",
      "Warning: Your H2O cluster version is too old (7 months and 4 days)! Please download and install the latest version from http://h2o.ai/download/\n"
     ]
    },
    {
     "data": {
      "text/html": [
       "<div style=\"overflow:auto\"><table style=\"width:50%\"><tr><td>H2O cluster uptime:</td>\n",
       "<td>1 hour 42 mins</td></tr>\n",
       "<tr><td>H2O cluster timezone:</td>\n",
       "<td>Europe/Madrid</td></tr>\n",
       "<tr><td>H2O data parsing timezone:</td>\n",
       "<td>UTC</td></tr>\n",
       "<tr><td>H2O cluster version:</td>\n",
       "<td>3.26.0.2</td></tr>\n",
       "<tr><td>H2O cluster version age:</td>\n",
       "<td>7 months and 4 days !!!</td></tr>\n",
       "<tr><td>H2O cluster name:</td>\n",
       "<td>H2O_from_python_soyungalgo_jxip91</td></tr>\n",
       "<tr><td>H2O cluster total nodes:</td>\n",
       "<td>1</td></tr>\n",
       "<tr><td>H2O cluster free memory:</td>\n",
       "<td>1.807 Gb</td></tr>\n",
       "<tr><td>H2O cluster total cores:</td>\n",
       "<td>4</td></tr>\n",
       "<tr><td>H2O cluster allowed cores:</td>\n",
       "<td>4</td></tr>\n",
       "<tr><td>H2O cluster status:</td>\n",
       "<td>locked, healthy</td></tr>\n",
       "<tr><td>H2O connection url:</td>\n",
       "<td>http://localhost:54321</td></tr>\n",
       "<tr><td>H2O connection proxy:</td>\n",
       "<td>None</td></tr>\n",
       "<tr><td>H2O internal security:</td>\n",
       "<td>False</td></tr>\n",
       "<tr><td>H2O API Extensions:</td>\n",
       "<td>Amazon S3, XGBoost, Algos, AutoML, Core V3, Core V4</td></tr>\n",
       "<tr><td>Python version:</td>\n",
       "<td>3.8.1 final</td></tr></table></div>"
      ],
      "text/plain": [
       "--------------------------  ---------------------------------------------------\n",
       "H2O cluster uptime:         1 hour 42 mins\n",
       "H2O cluster timezone:       Europe/Madrid\n",
       "H2O data parsing timezone:  UTC\n",
       "H2O cluster version:        3.26.0.2\n",
       "H2O cluster version age:    7 months and 4 days !!!\n",
       "H2O cluster name:           H2O_from_python_soyungalgo_jxip91\n",
       "H2O cluster total nodes:    1\n",
       "H2O cluster free memory:    1.807 Gb\n",
       "H2O cluster total cores:    4\n",
       "H2O cluster allowed cores:  4\n",
       "H2O cluster status:         locked, healthy\n",
       "H2O connection url:         http://localhost:54321\n",
       "H2O connection proxy:\n",
       "H2O internal security:      False\n",
       "H2O API Extensions:         Amazon S3, XGBoost, Algos, AutoML, Core V3, Core V4\n",
       "Python version:             3.8.1 final\n",
       "--------------------------  ---------------------------------------------------"
      ]
     },
     "metadata": {},
     "output_type": "display_data"
    }
   ],
   "source": [
    "h2o.init()"
   ]
  },
  {
   "cell_type": "code",
   "execution_count": 44,
   "metadata": {},
   "outputs": [
    {
     "name": "stdout",
     "output_type": "stream",
     "text": [
      "Parse progress: |█████████████████████████████████████████████████████████| 100%\n",
      "Parse progress: |█████████████████████████████████████████████████████████| 100%\n"
     ]
    }
   ],
   "source": [
    "h2train = h2o.H2OFrame(train)\n",
    "h2test = h2o.H2OFrame(test)"
   ]
  },
  {
   "cell_type": "code",
   "execution_count": 45,
   "metadata": {},
   "outputs": [
    {
     "name": "stdout",
     "output_type": "stream",
     "text": [
      "['id', 'carat', 'depth', 'table', 'x', 'y', 'z', 'cut_Fair', 'cut_Good', 'cut_Ideal', 'cut_Premium', 'cut_Very Good', 'color_D', 'color_E', 'color_F', 'color_G', 'color_H', 'color_I', 'color_J', 'clarity_I1', 'clarity_IF', 'clarity_SI1', 'clarity_SI2', 'clarity_VS1', 'clarity_VS2', 'clarity_VVS1', 'clarity_VVS2']\n"
     ]
    }
   ],
   "source": [
    "columnas = [a for a in h2train.columns if a != \"price\"]\n",
    "x = columnas\n",
    "y = \"price\"\n",
    "print(columnas)"
   ]
  },
  {
   "cell_type": "code",
   "execution_count": 46,
   "metadata": {},
   "outputs": [],
   "source": [
    "#H2oAutoML buscará automáticamente modelos de machine learning que se ajustan a los datos y entrenaremos con el mejor"
   ]
  },
  {
   "cell_type": "code",
   "execution_count": 47,
   "metadata": {},
   "outputs": [
    {
     "name": "stdout",
     "output_type": "stream",
     "text": [
      "AutoML progress: |████████████████████████████████████████████████████████| 100%\n"
     ]
    }
   ],
   "source": [
    "automl = H2OAutoML(max_models=50, seed=42,max_runtime_secs=300, sort_metric='RMSE')\n",
    "automl.train(x=x, y=y, training_frame=h2train)"
   ]
  },
  {
   "cell_type": "code",
   "execution_count": 48,
   "metadata": {},
   "outputs": [
    {
     "name": "stdout",
     "output_type": "stream",
     "text": [
      "[INFO] Models leader board:\n"
     ]
    },
    {
     "data": {
      "text/html": [
       "<table>\n",
       "<thead>\n",
       "<tr><th>model_id                                           </th><th style=\"text-align: right;\">  mean_residual_deviance</th><th style=\"text-align: right;\">    rmse</th><th style=\"text-align: right;\">             mse</th><th style=\"text-align: right;\">     mae</th><th style=\"text-align: right;\">    rmsle</th></tr>\n",
       "</thead>\n",
       "<tbody>\n",
       "<tr><td>XGBoost_1_AutoML_20200302_123930                   </td><td style=\"text-align: right;\">        304094          </td><td style=\"text-align: right;\"> 551.447</td><td style=\"text-align: right;\">304094          </td><td style=\"text-align: right;\"> 277.407</td><td style=\"text-align: right;\">0.0964602</td></tr>\n",
       "<tr><td>XGBoost_2_AutoML_20200302_123930                   </td><td style=\"text-align: right;\">        355539          </td><td style=\"text-align: right;\"> 596.271</td><td style=\"text-align: right;\">355539          </td><td style=\"text-align: right;\"> 300.286</td><td style=\"text-align: right;\">0.0960263</td></tr>\n",
       "<tr><td>StackedEnsemble_AllModels_AutoML_20200302_123930   </td><td style=\"text-align: right;\">             7.03234e+06</td><td style=\"text-align: right;\">2651.86 </td><td style=\"text-align: right;\">     7.03234e+06</td><td style=\"text-align: right;\">1983.41 </td><td style=\"text-align: right;\">0.854323 </td></tr>\n",
       "<tr><td>StackedEnsemble_BestOfFamily_AutoML_20200302_123930</td><td style=\"text-align: right;\">             1.11386e+07</td><td style=\"text-align: right;\">3337.46 </td><td style=\"text-align: right;\">     1.11386e+07</td><td style=\"text-align: right;\">2527.34 </td><td style=\"text-align: right;\">0.995777 </td></tr>\n",
       "<tr><td>XGBoost_3_AutoML_20200302_123930                   </td><td style=\"text-align: right;\">             1.36881e+07</td><td style=\"text-align: right;\">3699.74 </td><td style=\"text-align: right;\">     1.36881e+07</td><td style=\"text-align: right;\">2437.73 </td><td style=\"text-align: right;\">1.08642  </td></tr>\n",
       "</tbody>\n",
       "</table>"
      ]
     },
     "metadata": {},
     "output_type": "display_data"
    },
    {
     "data": {
      "text/plain": []
     },
     "execution_count": 48,
     "metadata": {},
     "output_type": "execute_result"
    }
   ],
   "source": [
    "print('[INFO] Models leader board:')\n",
    "leader_board = automl.leaderboard\n",
    "leader_board.head()"
   ]
  },
  {
   "cell_type": "code",
   "execution_count": 49,
   "metadata": {},
   "outputs": [
    {
     "data": {
      "text/html": [
       "<div>\n",
       "<style scoped>\n",
       "    .dataframe tbody tr th:only-of-type {\n",
       "        vertical-align: middle;\n",
       "    }\n",
       "\n",
       "    .dataframe tbody tr th {\n",
       "        vertical-align: top;\n",
       "    }\n",
       "\n",
       "    .dataframe thead th {\n",
       "        text-align: right;\n",
       "    }\n",
       "</style>\n",
       "<table border=\"1\" class=\"dataframe\">\n",
       "  <thead>\n",
       "    <tr style=\"text-align: right;\">\n",
       "      <th></th>\n",
       "      <th></th>\n",
       "      <th>mean</th>\n",
       "      <th>sd</th>\n",
       "      <th>cv_1_valid</th>\n",
       "      <th>cv_2_valid</th>\n",
       "      <th>cv_3_valid</th>\n",
       "      <th>cv_4_valid</th>\n",
       "      <th>cv_5_valid</th>\n",
       "    </tr>\n",
       "  </thead>\n",
       "  <tbody>\n",
       "    <tr>\n",
       "      <th>0</th>\n",
       "      <td>mae</td>\n",
       "      <td>277.40747</td>\n",
       "      <td>4.94194</td>\n",
       "      <td>271.06802</td>\n",
       "      <td>284.25885</td>\n",
       "      <td>275.24405</td>\n",
       "      <td>286.92386</td>\n",
       "      <td>269.54263</td>\n",
       "    </tr>\n",
       "    <tr>\n",
       "      <th>1</th>\n",
       "      <td>mean_residual_deviance</td>\n",
       "      <td>304094.25</td>\n",
       "      <td>13254.099</td>\n",
       "      <td>305579.62</td>\n",
       "      <td>330176.97</td>\n",
       "      <td>299363.38</td>\n",
       "      <td>312563.34</td>\n",
       "      <td>272787.84</td>\n",
       "    </tr>\n",
       "    <tr>\n",
       "      <th>2</th>\n",
       "      <td>mse</td>\n",
       "      <td>304094.25</td>\n",
       "      <td>13254.099</td>\n",
       "      <td>305579.62</td>\n",
       "      <td>330176.97</td>\n",
       "      <td>299363.38</td>\n",
       "      <td>312563.34</td>\n",
       "      <td>272787.84</td>\n",
       "    </tr>\n",
       "    <tr>\n",
       "      <th>3</th>\n",
       "      <td>r2</td>\n",
       "      <td>0.98094124</td>\n",
       "      <td>5.779693E-4</td>\n",
       "      <td>0.98042154</td>\n",
       "      <td>0.98055583</td>\n",
       "      <td>0.9804996</td>\n",
       "      <td>0.9806608</td>\n",
       "      <td>0.98256856</td>\n",
       "    </tr>\n",
       "    <tr>\n",
       "      <th>4</th>\n",
       "      <td>residual_deviance</td>\n",
       "      <td>304094.25</td>\n",
       "      <td>13254.099</td>\n",
       "      <td>305579.62</td>\n",
       "      <td>330176.97</td>\n",
       "      <td>299363.38</td>\n",
       "      <td>312563.34</td>\n",
       "      <td>272787.84</td>\n",
       "    </tr>\n",
       "    <tr>\n",
       "      <th>5</th>\n",
       "      <td>rmse</td>\n",
       "      <td>551.1817</td>\n",
       "      <td>12.102796</td>\n",
       "      <td>552.79254</td>\n",
       "      <td>574.6103</td>\n",
       "      <td>547.1411</td>\n",
       "      <td>559.07367</td>\n",
       "      <td>522.29095</td>\n",
       "    </tr>\n",
       "    <tr>\n",
       "      <th>6</th>\n",
       "      <td>rmsle</td>\n",
       "      <td>0.0964554</td>\n",
       "      <td>6.8277546E-4</td>\n",
       "      <td>0.097121775</td>\n",
       "      <td>0.09658108</td>\n",
       "      <td>0.096728854</td>\n",
       "      <td>0.097256735</td>\n",
       "      <td>0.09458857</td>\n",
       "    </tr>\n",
       "  </tbody>\n",
       "</table>\n",
       "</div>"
      ],
      "text/plain": [
       "                                 mean            sd   cv_1_valid  cv_2_valid  \\\n",
       "0                     mae   277.40747       4.94194    271.06802   284.25885   \n",
       "1  mean_residual_deviance   304094.25     13254.099    305579.62   330176.97   \n",
       "2                     mse   304094.25     13254.099    305579.62   330176.97   \n",
       "3                      r2  0.98094124   5.779693E-4   0.98042154  0.98055583   \n",
       "4       residual_deviance   304094.25     13254.099    305579.62   330176.97   \n",
       "5                    rmse    551.1817     12.102796    552.79254    574.6103   \n",
       "6                   rmsle   0.0964554  6.8277546E-4  0.097121775  0.09658108   \n",
       "\n",
       "    cv_3_valid   cv_4_valid  cv_5_valid  \n",
       "0    275.24405    286.92386   269.54263  \n",
       "1    299363.38    312563.34   272787.84  \n",
       "2    299363.38    312563.34   272787.84  \n",
       "3    0.9804996    0.9806608  0.98256856  \n",
       "4    299363.38    312563.34   272787.84  \n",
       "5     547.1411    559.07367   522.29095  \n",
       "6  0.096728854  0.097256735  0.09458857  "
      ]
     },
     "execution_count": 49,
     "metadata": {},
     "output_type": "execute_result"
    }
   ],
   "source": [
    "metrics = automl.leader.cross_validation_metrics_summary().as_data_frame()\n",
    "metrics"
   ]
  },
  {
   "cell_type": "code",
   "execution_count": 50,
   "metadata": {},
   "outputs": [
    {
     "data": {
      "text/html": [
       "<div>\n",
       "<style scoped>\n",
       "    .dataframe tbody tr th:only-of-type {\n",
       "        vertical-align: middle;\n",
       "    }\n",
       "\n",
       "    .dataframe tbody tr th {\n",
       "        vertical-align: top;\n",
       "    }\n",
       "\n",
       "    .dataframe thead th {\n",
       "        text-align: right;\n",
       "    }\n",
       "</style>\n",
       "<table border=\"1\" class=\"dataframe\">\n",
       "  <thead>\n",
       "    <tr style=\"text-align: right;\">\n",
       "      <th></th>\n",
       "      <th>variable</th>\n",
       "      <th>relative_importance</th>\n",
       "      <th>scaled_importance</th>\n",
       "      <th>percentage</th>\n",
       "    </tr>\n",
       "  </thead>\n",
       "  <tbody>\n",
       "    <tr>\n",
       "      <th>0</th>\n",
       "      <td>y</td>\n",
       "      <td>1.480187e+12</td>\n",
       "      <td>1.000000</td>\n",
       "      <td>0.378016</td>\n",
       "    </tr>\n",
       "    <tr>\n",
       "      <th>1</th>\n",
       "      <td>carat</td>\n",
       "      <td>1.475907e+12</td>\n",
       "      <td>0.997108</td>\n",
       "      <td>0.376923</td>\n",
       "    </tr>\n",
       "    <tr>\n",
       "      <th>2</th>\n",
       "      <td>x</td>\n",
       "      <td>4.842036e+11</td>\n",
       "      <td>0.327123</td>\n",
       "      <td>0.123658</td>\n",
       "    </tr>\n",
       "    <tr>\n",
       "      <th>3</th>\n",
       "      <td>z</td>\n",
       "      <td>9.458418e+10</td>\n",
       "      <td>0.063900</td>\n",
       "      <td>0.024155</td>\n",
       "    </tr>\n",
       "    <tr>\n",
       "      <th>4</th>\n",
       "      <td>clarity_SI2</td>\n",
       "      <td>6.237338e+10</td>\n",
       "      <td>0.042139</td>\n",
       "      <td>0.015929</td>\n",
       "    </tr>\n",
       "    <tr>\n",
       "      <th>5</th>\n",
       "      <td>clarity_I1</td>\n",
       "      <td>5.112789e+10</td>\n",
       "      <td>0.034541</td>\n",
       "      <td>0.013057</td>\n",
       "    </tr>\n",
       "    <tr>\n",
       "      <th>6</th>\n",
       "      <td>color_J</td>\n",
       "      <td>4.004647e+10</td>\n",
       "      <td>0.027055</td>\n",
       "      <td>0.010227</td>\n",
       "    </tr>\n",
       "    <tr>\n",
       "      <th>7</th>\n",
       "      <td>clarity_SI1</td>\n",
       "      <td>3.284784e+10</td>\n",
       "      <td>0.022192</td>\n",
       "      <td>0.008389</td>\n",
       "    </tr>\n",
       "    <tr>\n",
       "      <th>8</th>\n",
       "      <td>clarity_VVS2</td>\n",
       "      <td>2.943144e+10</td>\n",
       "      <td>0.019884</td>\n",
       "      <td>0.007516</td>\n",
       "    </tr>\n",
       "    <tr>\n",
       "      <th>9</th>\n",
       "      <td>color_I</td>\n",
       "      <td>2.783098e+10</td>\n",
       "      <td>0.018802</td>\n",
       "      <td>0.007108</td>\n",
       "    </tr>\n",
       "    <tr>\n",
       "      <th>10</th>\n",
       "      <td>clarity_IF</td>\n",
       "      <td>2.044849e+10</td>\n",
       "      <td>0.013815</td>\n",
       "      <td>0.005222</td>\n",
       "    </tr>\n",
       "    <tr>\n",
       "      <th>11</th>\n",
       "      <td>clarity_VVS1</td>\n",
       "      <td>1.818981e+10</td>\n",
       "      <td>0.012289</td>\n",
       "      <td>0.004645</td>\n",
       "    </tr>\n",
       "    <tr>\n",
       "      <th>12</th>\n",
       "      <td>color_H</td>\n",
       "      <td>1.767035e+10</td>\n",
       "      <td>0.011938</td>\n",
       "      <td>0.004513</td>\n",
       "    </tr>\n",
       "    <tr>\n",
       "      <th>13</th>\n",
       "      <td>color_D</td>\n",
       "      <td>1.159676e+10</td>\n",
       "      <td>0.007835</td>\n",
       "      <td>0.002962</td>\n",
       "    </tr>\n",
       "    <tr>\n",
       "      <th>14</th>\n",
       "      <td>clarity_VS1</td>\n",
       "      <td>1.076026e+10</td>\n",
       "      <td>0.007270</td>\n",
       "      <td>0.002748</td>\n",
       "    </tr>\n",
       "    <tr>\n",
       "      <th>15</th>\n",
       "      <td>clarity_VS2</td>\n",
       "      <td>1.008141e+10</td>\n",
       "      <td>0.006811</td>\n",
       "      <td>0.002575</td>\n",
       "    </tr>\n",
       "    <tr>\n",
       "      <th>16</th>\n",
       "      <td>depth</td>\n",
       "      <td>9.565614e+09</td>\n",
       "      <td>0.006462</td>\n",
       "      <td>0.002443</td>\n",
       "    </tr>\n",
       "    <tr>\n",
       "      <th>17</th>\n",
       "      <td>color_E</td>\n",
       "      <td>7.853337e+09</td>\n",
       "      <td>0.005306</td>\n",
       "      <td>0.002006</td>\n",
       "    </tr>\n",
       "    <tr>\n",
       "      <th>18</th>\n",
       "      <td>id</td>\n",
       "      <td>7.173000e+09</td>\n",
       "      <td>0.004846</td>\n",
       "      <td>0.001832</td>\n",
       "    </tr>\n",
       "    <tr>\n",
       "      <th>19</th>\n",
       "      <td>color_F</td>\n",
       "      <td>6.976039e+09</td>\n",
       "      <td>0.004713</td>\n",
       "      <td>0.001782</td>\n",
       "    </tr>\n",
       "    <tr>\n",
       "      <th>20</th>\n",
       "      <td>color_G</td>\n",
       "      <td>5.703611e+09</td>\n",
       "      <td>0.003853</td>\n",
       "      <td>0.001457</td>\n",
       "    </tr>\n",
       "    <tr>\n",
       "      <th>21</th>\n",
       "      <td>table</td>\n",
       "      <td>4.420851e+09</td>\n",
       "      <td>0.002987</td>\n",
       "      <td>0.001129</td>\n",
       "    </tr>\n",
       "    <tr>\n",
       "      <th>22</th>\n",
       "      <td>cut_Ideal</td>\n",
       "      <td>3.833523e+09</td>\n",
       "      <td>0.002590</td>\n",
       "      <td>0.000979</td>\n",
       "    </tr>\n",
       "    <tr>\n",
       "      <th>23</th>\n",
       "      <td>cut_Fair</td>\n",
       "      <td>9.800734e+08</td>\n",
       "      <td>0.000662</td>\n",
       "      <td>0.000250</td>\n",
       "    </tr>\n",
       "    <tr>\n",
       "      <th>24</th>\n",
       "      <td>cut_Premium</td>\n",
       "      <td>8.260787e+08</td>\n",
       "      <td>0.000558</td>\n",
       "      <td>0.000211</td>\n",
       "    </tr>\n",
       "    <tr>\n",
       "      <th>25</th>\n",
       "      <td>cut_Good</td>\n",
       "      <td>5.514281e+08</td>\n",
       "      <td>0.000373</td>\n",
       "      <td>0.000141</td>\n",
       "    </tr>\n",
       "    <tr>\n",
       "      <th>26</th>\n",
       "      <td>cut_VeryGood</td>\n",
       "      <td>5.014916e+08</td>\n",
       "      <td>0.000339</td>\n",
       "      <td>0.000128</td>\n",
       "    </tr>\n",
       "  </tbody>\n",
       "</table>\n",
       "</div>"
      ],
      "text/plain": [
       "        variable  relative_importance  scaled_importance  percentage\n",
       "0              y         1.480187e+12           1.000000    0.378016\n",
       "1          carat         1.475907e+12           0.997108    0.376923\n",
       "2              x         4.842036e+11           0.327123    0.123658\n",
       "3              z         9.458418e+10           0.063900    0.024155\n",
       "4    clarity_SI2         6.237338e+10           0.042139    0.015929\n",
       "5     clarity_I1         5.112789e+10           0.034541    0.013057\n",
       "6        color_J         4.004647e+10           0.027055    0.010227\n",
       "7    clarity_SI1         3.284784e+10           0.022192    0.008389\n",
       "8   clarity_VVS2         2.943144e+10           0.019884    0.007516\n",
       "9        color_I         2.783098e+10           0.018802    0.007108\n",
       "10    clarity_IF         2.044849e+10           0.013815    0.005222\n",
       "11  clarity_VVS1         1.818981e+10           0.012289    0.004645\n",
       "12       color_H         1.767035e+10           0.011938    0.004513\n",
       "13       color_D         1.159676e+10           0.007835    0.002962\n",
       "14   clarity_VS1         1.076026e+10           0.007270    0.002748\n",
       "15   clarity_VS2         1.008141e+10           0.006811    0.002575\n",
       "16         depth         9.565614e+09           0.006462    0.002443\n",
       "17       color_E         7.853337e+09           0.005306    0.002006\n",
       "18            id         7.173000e+09           0.004846    0.001832\n",
       "19       color_F         6.976039e+09           0.004713    0.001782\n",
       "20       color_G         5.703611e+09           0.003853    0.001457\n",
       "21         table         4.420851e+09           0.002987    0.001129\n",
       "22     cut_Ideal         3.833523e+09           0.002590    0.000979\n",
       "23      cut_Fair         9.800734e+08           0.000662    0.000250\n",
       "24   cut_Premium         8.260787e+08           0.000558    0.000211\n",
       "25      cut_Good         5.514281e+08           0.000373    0.000141\n",
       "26  cut_VeryGood         5.014916e+08           0.000339    0.000128"
      ]
     },
     "execution_count": 50,
     "metadata": {},
     "output_type": "execute_result"
    }
   ],
   "source": [
    "automl.leader.varimp(use_pandas=True)"
   ]
  },
  {
   "cell_type": "code",
   "execution_count": 51,
   "metadata": {},
   "outputs": [
    {
     "name": "stdout",
     "output_type": "stream",
     "text": [
      "xgboost prediction progress: |████████████████████████████████████████████| 100%\n"
     ]
    }
   ],
   "source": [
    "predictions = automl.leader.predict(h2test)"
   ]
  },
  {
   "cell_type": "code",
   "execution_count": 52,
   "metadata": {},
   "outputs": [],
   "source": [
    "test[\"price\"] = predictions.as_data_frame()\n",
    "columnasentrega = [\"id\",\"price\"]\n",
    "entrega = test[\"price\"]\n",
    "test = test[columnasentrega]"
   ]
  },
  {
   "cell_type": "code",
   "execution_count": 54,
   "metadata": {},
   "outputs": [
    {
     "data": {
      "text/html": [
       "<div>\n",
       "<style scoped>\n",
       "    .dataframe tbody tr th:only-of-type {\n",
       "        vertical-align: middle;\n",
       "    }\n",
       "\n",
       "    .dataframe tbody tr th {\n",
       "        vertical-align: top;\n",
       "    }\n",
       "\n",
       "    .dataframe thead th {\n",
       "        text-align: right;\n",
       "    }\n",
       "</style>\n",
       "<table border=\"1\" class=\"dataframe\">\n",
       "  <thead>\n",
       "    <tr style=\"text-align: right;\">\n",
       "      <th></th>\n",
       "      <th>id</th>\n",
       "      <th>price</th>\n",
       "    </tr>\n",
       "  </thead>\n",
       "  <tbody>\n",
       "    <tr>\n",
       "      <th>0</th>\n",
       "      <td>0</td>\n",
       "      <td>4432.266113</td>\n",
       "    </tr>\n",
       "    <tr>\n",
       "      <th>1</th>\n",
       "      <td>1</td>\n",
       "      <td>1060.938354</td>\n",
       "    </tr>\n",
       "    <tr>\n",
       "      <th>2</th>\n",
       "      <td>2</td>\n",
       "      <td>17236.824219</td>\n",
       "    </tr>\n",
       "    <tr>\n",
       "      <th>3</th>\n",
       "      <td>3</td>\n",
       "      <td>7067.860352</td>\n",
       "    </tr>\n",
       "    <tr>\n",
       "      <th>4</th>\n",
       "      <td>4</td>\n",
       "      <td>1468.447754</td>\n",
       "    </tr>\n",
       "  </tbody>\n",
       "</table>\n",
       "</div>"
      ],
      "text/plain": [
       "   id         price\n",
       "0   0   4432.266113\n",
       "1   1   1060.938354\n",
       "2   2  17236.824219\n",
       "3   3   7067.860352\n",
       "4   4   1468.447754"
      ]
     },
     "execution_count": 54,
     "metadata": {},
     "output_type": "execute_result"
    }
   ],
   "source": [
    "test.head()"
   ]
  },
  {
   "cell_type": "code",
   "execution_count": 55,
   "metadata": {},
   "outputs": [],
   "source": [
    "test.to_csv('output/predictfinal2.csv', index=False)"
   ]
  },
  {
   "cell_type": "code",
   "execution_count": 56,
   "metadata": {},
   "outputs": [],
   "source": [
    "#mejor_Xgboost_elim_xyz = h2o.save_model(model=automl.leader, path=\"src/mejor_Xgboost_elim_xyz.h2o\", force=True)"
   ]
  },
  {
   "cell_type": "code",
   "execution_count": 57,
   "metadata": {},
   "outputs": [],
   "source": [
    "testing = pd.read_csv('output/predictfinal.csv')"
   ]
  },
  {
   "cell_type": "code",
   "execution_count": 1,
   "metadata": {},
   "outputs": [
    {
     "ename": "NameError",
     "evalue": "name 'h2o' is not defined",
     "output_type": "error",
     "traceback": [
      "\u001b[0;31m---------------------------------------------------------------------------\u001b[0m",
      "\u001b[0;31mNameError\u001b[0m                                 Traceback (most recent call last)",
      "\u001b[0;32m<ipython-input-1-8ae2ce013486>\u001b[0m in \u001b[0;36m<module>\u001b[0;34m\u001b[0m\n\u001b[0;32m----> 1\u001b[0;31m \u001b[0mh2o\u001b[0m\u001b[0;34m.\u001b[0m\u001b[0mcluster\u001b[0m\u001b[0;34m(\u001b[0m\u001b[0;34m)\u001b[0m\u001b[0;34m.\u001b[0m\u001b[0mshutdown\u001b[0m\u001b[0;34m(\u001b[0m\u001b[0;34m)\u001b[0m\u001b[0;34m\u001b[0m\u001b[0;34m\u001b[0m\u001b[0m\n\u001b[0m",
      "\u001b[0;31mNameError\u001b[0m: name 'h2o' is not defined"
     ]
    }
   ],
   "source": [
    "h2o.cluster().shutdown()"
   ]
  },
  {
   "cell_type": "code",
   "execution_count": null,
   "metadata": {},
   "outputs": [],
   "source": []
  }
 ],
 "metadata": {
  "kernelspec": {
   "display_name": "Python 3",
   "language": "python",
   "name": "python3"
  },
  "language_info": {
   "codemirror_mode": {
    "name": "ipython",
    "version": 3
   },
   "file_extension": ".py",
   "mimetype": "text/x-python",
   "name": "python",
   "nbconvert_exporter": "python",
   "pygments_lexer": "ipython3",
   "version": "3.8.1"
  }
 },
 "nbformat": 4,
 "nbformat_minor": 4
}
